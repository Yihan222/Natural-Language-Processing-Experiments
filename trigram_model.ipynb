{
 "cells": [
  {
   "cell_type": "markdown",
   "id": "e17edb42",
   "metadata": {},
   "source": [
    "# Programming Component\n",
    "## yz4152"
   ]
  },
  {
   "cell_type": "code",
   "execution_count": null,
   "id": "208a2e5f",
   "metadata": {},
   "outputs": [],
   "source": [
    "import sys\n",
    "from collections import defaultdict\n",
    "import math\n",
    "import random\n",
    "import os\n",
    "import os.path\n",
    "\"\"\"\n",
    "COMS W4705 - Natural Language Processing\n",
    "Homework 1 - Programming Component: Trigram Language Models\n",
    "Yassine Benajiba\n",
    "\"\"\""
   ]
  },
  {
   "cell_type": "code",
   "execution_count": 57,
   "id": "18fc27fc",
   "metadata": {},
   "outputs": [],
   "source": [
    "import numpy as np\n",
    "from copy import copy"
   ]
  },
  {
   "cell_type": "code",
   "execution_count": 58,
   "id": "cfbb5256",
   "metadata": {},
   "outputs": [],
   "source": [
    "def corpus_reader(corpusfile, lexicon=None):\n",
    "    with open(corpusfile,'r') as corpus:\n",
    "        for line in corpus:\n",
    "            if line.strip():\n",
    "                sequence = line.lower().strip().split()\n",
    "                if lexicon:\n",
    "                    yield [word if word in lexicon else \"UNK\" for word in sequence]\n",
    "                else:\n",
    "                    yield sequence\n",
    "\n",
    "\n",
    "def get_lexicon(corpus):\n",
    "    word_counts = defaultdict(int)\n",
    "    for sentence in corpus:\n",
    "        for word in sentence:\n",
    "            word_counts[word] += 1\n",
    "    return set(word for word in word_counts if word_counts[word] > 1)"
   ]
  },
  {
   "cell_type": "code",
   "execution_count": 59,
   "id": "e6737382",
   "metadata": {},
   "outputs": [],
   "source": [
    "def get_ngrams(sequence, n):\n",
    "    \"\"\"\n",
    "    COMPLETE THIS FUNCTION (PART 1)\n",
    "    Given a sequence, this function should return a list of n-grams, where each n-gram is a Python tuple.\n",
    "    This should work for arbitrary values of 1 <= n < len(sequence).\n",
    "    \"\"\"\n",
    "    ngrams = []\n",
    "    sequence_c = copy(sequence)\n",
    "    \n",
    "    if n-1 > 0:\n",
    "        padding_start = ['START'] * (n-1)\n",
    "    else:\n",
    "        padding_start = ['START']\n",
    "\n",
    "    padding_end = ['STOP']\n",
    "    sequence_c = padding_start + sequence_c + padding_end\n",
    "    for i in range(len(sequence_c) - n + 1):\n",
    "        ngrams.append(tuple(sequence_c[i:i+n]))\n",
    "    return ngrams\n"
   ]
  },
  {
   "cell_type": "code",
   "execution_count": 60,
   "id": "0599a453",
   "metadata": {},
   "outputs": [],
   "source": [
    "class TrigramModel(object):\n",
    "\n",
    "    def __init__(self, corpusfile):\n",
    "\n",
    "        # Iterate through the corpus once to to build a lexicon\n",
    "        generator = corpus_reader(corpusfile)\n",
    "        self.lexicon = get_lexicon(generator)\n",
    "        self.lexicon.add(\"UNK\")\n",
    "        self.lexicon.add(\"START\")\n",
    "        self.lexicon.add(\"STOP\")\n",
    "\n",
    "        # Now iterate through the corpus again and count ngrams\n",
    "        generator = corpus_reader(corpusfile, self.lexicon)\n",
    "        self.count_ngrams(generator)\n",
    "        \n",
    "        # caculating the denominator for raw_unigram_probability\n",
    "        self.n_counts = sum(self.unigramcounts.values())\n",
    "\n",
    "\n",
    "    def count_ngrams(self, corpus):\n",
    "        \"\"\"\n",
    "        COMPLETE THIS METHOD (PART 2)\n",
    "        Given a corpus iterator, populate dictionaries of unigram, bigram,\n",
    "        and trigram counts.\n",
    "        \"\"\"\n",
    "\n",
    "        self.unigramcounts = defaultdict(int)\n",
    "        self.bigramcounts = defaultdict(int)\n",
    "        self.trigramcounts = defaultdict(int)\n",
    "\n",
    "        ##Your code here\n",
    "        for i in corpus:\n",
    "            for unigram in get_ngrams(i, 1):\n",
    "                self.unigramcounts[unigram] += 1\n",
    "\n",
    "            for bigram in get_ngrams(i, 2):\n",
    "                self.bigramcounts[bigram] += 1\n",
    "\n",
    "            for trigram in get_ngrams(i, 3):\n",
    "                self.trigramcounts[trigram] += 1\n",
    "\n",
    "\n",
    "    def raw_trigram_probability(self,trigram):\n",
    "        \"\"\"\n",
    "        COMPLETE THIS METHOD (PART 3)\n",
    "        Returns the raw (unsmoothed) trigram probability\n",
    "        \"\"\"\n",
    "\n",
    "        # denominator = 0, prob = 0\n",
    "        if self.bigramcounts[trigram[0:2]] == 0:\n",
    "            return 0\n",
    "\n",
    "        return self.trigramcounts[trigram] / self.bigramcounts[trigram[0:2]]\n",
    "\n",
    "\n",
    "    def raw_bigram_probability(self, bigram):\n",
    "        \"\"\"\n",
    "        COMPLETE THIS METHOD (PART 3)\n",
    "        Returns the raw (unsmoothed) bigram probability\n",
    "        \"\"\"\n",
    "\n",
    "        if self.unigramcounts[(bigram[0],)] == 0:\n",
    "            return 0\n",
    "\n",
    "        return self.bigramcounts[bigram] / self.unigramcounts[(bigram[0],)]\n",
    "\n",
    "\n",
    "    def raw_unigram_probability(self, unigram):\n",
    "        \"\"\"\n",
    "        COMPLETE THIS METHOD (PART 3)\n",
    "        Returns the raw (unsmoothed) unigram probability.\n",
    "        \"\"\"\n",
    "        \n",
    "        #self.n_counts = sum(self.unigramcounts.values())\n",
    "        # call this function every time could be very slow\n",
    "        return self.unigramcounts[unigram] / self.n_counts\n",
    "\n",
    "\n",
    "    # Generate trigram probability for every trigram that starts with a certain bigram\n",
    "    # This is a helper function for generate_sentence\n",
    "    def generate_trigram(self, given):\n",
    "        possible_w = []\n",
    "        prob = []\n",
    "\n",
    "        w_1 = given[1]\n",
    "        w_2 = given[2]\n",
    "        for trigram in self.trigramcounts:\n",
    "            if trigram[2] != 'START' and trigram[:2] == (w_1, w_2):\n",
    "                possible_w.append(trigram[2])\n",
    "                prob.append(self.raw_trigram_probability(trigram))\n",
    "\n",
    "        return possible_w, prob\n",
    "\n",
    "\n",
    "    def generate_sentence(self, t=20): \n",
    "        \"\"\"\n",
    "        COMPLETE THIS METHOD (OPTIONAL)\n",
    "        Generate a random sentence from the trigram model. t specifies the\n",
    "        max length, but the sentence may be shorter if STOP is reached.\n",
    "        \"\"\"\n",
    "        current_tri = (None, 'START', 'START')\n",
    "        possible_w = []\n",
    "        prob = []\n",
    "        sentence = []\n",
    "        i = 0\n",
    "        \n",
    "        for i in range(0,t):\n",
    "            possible_w, prob = self.generate_trigram(tuple(current_tri))\n",
    "            w_1 = current_tri[1]\n",
    "            w_2 = current_tri[2]\n",
    "            \n",
    "            # n_w = np.random.choice(possible_w, 1, p = prob)[0]\n",
    "            # wrong for the sum of p != 1            \n",
    "            pprob = np.random.multinomial(10, prob)\n",
    "            # return a same size list while every element denotes how many times \n",
    "            # the word occurs (10 times random sampling with replacement)\n",
    "            # all elements of the list sum to 10\n",
    "            \n",
    "            idx = np.argmax(pprob)\n",
    "            n_w = possible_w[idx]\n",
    "            current_tri = (w_1, w_2, n_w)\n",
    "            sentence.append(n_w)\n",
    "            i += 1\n",
    "            \n",
    "            if n_w == 'STOP':\n",
    "                break\n",
    "            \n",
    "        return sentence \n",
    "\n",
    "\n",
    "\n",
    "    def smoothed_trigram_probability(self, trigram):\n",
    "        \"\"\"\n",
    "        COMPLETE THIS METHOD (PART 4)\n",
    "        Returns the smoothed trigram probability (using linear interpolation).\n",
    "        \"\"\"\n",
    "\n",
    "        lambda1 = 1/3.0\n",
    "        lambda2 = 1/3.0\n",
    "        lambda3 = 1/3.0\n",
    "\n",
    "        t_prob = lambda1 * self.raw_trigram_probability(trigram)\n",
    "        b_prob = lambda2 * self.raw_bigram_probability(trigram[1:3])\n",
    "        u_prob = lambda3 * self.raw_unigram_probability((trigram[2],))\n",
    "        p = t_prob + b_prob + u_prob\n",
    "        \n",
    "        return p\n",
    "\n",
    "\n",
    "    def sentence_logprob(self, sentence):\n",
    "        \"\"\"\n",
    "        COMPLETE THIS METHOD (PART 5)\n",
    "        Returns the log probability of an entire sequence.\n",
    "        \"\"\"\n",
    "\n",
    "        ngrams = get_ngrams(sentence, 3)\n",
    "        log_p = 0\n",
    "        for i in range(len(ngrams)):\n",
    "            trigram = ngrams[i]\n",
    "            s_p = self.smoothed_trigram_probability(trigram)\n",
    "            if s_p == 0:\n",
    "                return float('inf')\n",
    "            else:\n",
    "                log_p += math.log2(s_p)\n",
    "            \n",
    "        return log_p\n",
    "\n",
    "\n",
    "    def perplexity(self, corpus):\n",
    "        \"\"\"\n",
    "        COMPLETE THIS METHOD (PART 6)\n",
    "        Returns the log probability of an entire sequence.\n",
    "        \"\"\"\n",
    "        l = 0\n",
    "        m = 0\n",
    "        for s in corpus:\n",
    "            l += self.sentence_logprob(s)\n",
    "            m += len(s)\n",
    "        l /= m\n",
    "        l = 2**(-l)\n",
    "        \n",
    "        return l"
   ]
  },
  {
   "cell_type": "code",
   "execution_count": 61,
   "id": "d7f91db5",
   "metadata": {},
   "outputs": [],
   "source": [
    "def essay_scoring_experiment(training_file1, training_file2, testdir1, testdir2):\n",
    "\n",
    "        model1 = TrigramModel(training_file1) # trained on train_high.txt\n",
    "        model2 = TrigramModel(training_file2) # trained on train_low.txt\n",
    "\n",
    "        total = 0\n",
    "        correct = 0\n",
    "\n",
    "        # test_high\n",
    "        for f in os.listdir(testdir1):\n",
    "            p_high = model1.perplexity(corpus_reader(os.path.join(testdir1, f), model1.lexicon))\n",
    "            p_low = model2.perplexity(corpus_reader(os.path.join(testdir1, f), model2.lexicon))\n",
    "\n",
    "            if p_high < p_low:\n",
    "                correct += 1\n",
    "            total += 1\n",
    "\n",
    "        # test_low \n",
    "        for f in os.listdir(testdir2):\n",
    "            p_high = model1.perplexity(corpus_reader(os.path.join(testdir2, f), model1.lexicon))\n",
    "            p_low = model2.perplexity(corpus_reader(os.path.join(testdir2, f), model2.lexicon))\n",
    "\n",
    "            if p_low < p_high:\n",
    "                correct += 1\n",
    "            total += 1\n",
    "\n",
    "        return correct / total\n"
   ]
  },
  {
   "cell_type": "markdown",
   "id": "6590d46f",
   "metadata": {},
   "source": [
    "### Testing raw probability"
   ]
  },
  {
   "cell_type": "code",
   "execution_count": 62,
   "id": "e70ed1fa",
   "metadata": {},
   "outputs": [
    {
     "name": "stdout",
     "output_type": "stream",
     "text": [
      "0.056658540702227214\n",
      "0.0005697727420720192\n"
     ]
    }
   ],
   "source": [
    "if __name__ == '__main__':\n",
    "    # Loading model\n",
    "    data_dir = 'hw1_data/'\n",
    "    model = TrigramModel(data_dir + 'brown_train.txt')\n",
    "    print(model.raw_unigram_probability(('the',)))\n",
    "    print(model.raw_bigram_probability(('the', 'jury',))) "
   ]
  },
  {
   "cell_type": "markdown",
   "id": "a7964b1a",
   "metadata": {},
   "source": [
    "### Testing perplexity"
   ]
  },
  {
   "cell_type": "code",
   "execution_count": 63,
   "id": "6568ac87",
   "metadata": {},
   "outputs": [
    {
     "name": "stdout",
     "output_type": "stream",
     "text": [
      "Perplexity for brown_train: \n",
      "18.503468749839712\n",
      "Perplexity for brown_test: \n",
      "318.32613335065446\n"
     ]
    }
   ],
   "source": [
    "train_corpus = corpus_reader(data_dir + 'brown_train.txt', model.lexicon)\n",
    "test_corpus = corpus_reader(data_dir + 'brown_test.txt', model.lexicon)\n",
    "pptrain = model.perplexity(train_corpus)\n",
    "pptest = model.perplexity(test_corpus)\n",
    "\n",
    "print('Perplexity for brown_train: ')\n",
    "print(pptrain)\n",
    "print('Perplexity for brown_test: ')\n",
    "print(pptest)"
   ]
  },
  {
   "cell_type": "markdown",
   "id": "af228623",
   "metadata": {},
   "source": [
    "### Testing essay scoring accuracy"
   ]
  },
  {
   "cell_type": "code",
   "execution_count": 64,
   "id": "9655f3d5",
   "metadata": {},
   "outputs": [
    {
     "name": "stdout",
     "output_type": "stream",
     "text": [
      "Essay scoring accuracy: \n",
      "0.852589641434263\n"
     ]
    }
   ],
   "source": [
    "ets_toefl_data_dir = data_dir + 'ets_toefl_data/'\n",
    "acc = essay_scoring_experiment(ets_toefl_data_dir + 'train_high.txt', ets_toefl_data_dir + 'train_low.txt', ets_toefl_data_dir + 'test_high', ets_toefl_data_dir + 'test_low')\n",
    "print('Essay scoring accuracy: ')\n",
    "print(acc)"
   ]
  },
  {
   "cell_type": "markdown",
   "id": "c33a463f",
   "metadata": {},
   "source": [
    "### Testing sentence generate"
   ]
  },
  {
   "cell_type": "code",
   "execution_count": 65,
   "id": "980d5592",
   "metadata": {},
   "outputs": [
    {
     "name": "stdout",
     "output_type": "stream",
     "text": [
      "Sample random sentence of max length 10:\n",
      "['eternity', 'is', 'no', 'reason', 'to', 'believe', 'that', 'the', 'united', 'states']\n"
     ]
    }
   ],
   "source": [
    "random_sentence = model.generate_sentence(10)\n",
    "print('Sample random sentence of max length 10:')\n",
    "print(random_sentence)"
   ]
  },
  {
   "cell_type": "code",
   "execution_count": null,
   "id": "9ef94b65",
   "metadata": {},
   "outputs": [],
   "source": []
  }
 ],
 "metadata": {
  "kernelspec": {
   "display_name": "Python 3 (ipykernel)",
   "language": "python",
   "name": "python3"
  },
  "language_info": {
   "codemirror_mode": {
    "name": "ipython",
    "version": 3
   },
   "file_extension": ".py",
   "mimetype": "text/x-python",
   "name": "python",
   "nbconvert_exporter": "python",
   "pygments_lexer": "ipython3",
   "version": "3.9.7"
  }
 },
 "nbformat": 4,
 "nbformat_minor": 5
}
